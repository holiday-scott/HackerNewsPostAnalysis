{
  "nbformat": 4,
  "nbformat_minor": 0,
  "metadata": {
    "colab": {
      "name": "Exploring Hacker News Posts.ipynb",
      "provenance": [],
      "authorship_tag": "ABX9TyO8CNakjU6kbR7goIj/cr8i",
      "include_colab_link": true
    },
    "kernelspec": {
      "name": "python3",
      "display_name": "Python 3"
    },
    "language_info": {
      "name": "python"
    }
  },
  "cells": [
    {
      "cell_type": "markdown",
      "metadata": {
        "id": "view-in-github",
        "colab_type": "text"
      },
      "source": [
        "<a href=\"https://colab.research.google.com/github/holiday-scott/HackerNewsPostAnalysis/blob/main/Exploring_Hacker_News_Posts.ipynb\" target=\"_parent\"><img src=\"https://colab.research.google.com/assets/colab-badge.svg\" alt=\"Open In Colab\"/></a>"
      ]
    },
    {
      "cell_type": "markdown",
      "metadata": {
        "id": "QhXl6RdT91X_"
      },
      "source": [
        "# Exploring Hacker News Posts\n",
        "\n",
        "[This data set](https://www.kaggle.com/hacker-news/hacker-news-posts) is Hacker News posts from the last 12 months (up to September 26 2016). \n",
        "\n",
        "The original data has been reduced to remove any posts which did not receive comments.\n",
        "\n",
        "- **id**: The unique identifier from Hacker News for the post\n",
        "- **title**: The title of the post\n",
        "- **url**: The URL that the posts links to, if the post has a URL\n",
        "- **num_points**: The number of points the post acquired, calculated as the total number of upvotes minus the total number of downvotes\n",
        "- **num_comments**: The number of comments that were made on the post\n",
        "- **author**: The username of the person who submitted the post\n",
        "- **created_at**: The date and time at which the post was submitted\n",
        "\n",
        "## Problem - Max Engagement?\n",
        "What kind of post should be published and when should it be published to get maximum engagement?\n",
        "\n",
        "## Contents\n",
        "1. Access Data Source\n",
        "  - 1.1 Inside the Data \n",
        "2. Most Engaging Post Type\n",
        "  - 2.1 Engagement by Most Common Post Type\n",
        "  - 2.2 Engagement by Comments and Upvotes\n",
        "3. Time Analysis\n",
        "  - 3.1 Clean the data\n",
        "  - 3.2 Convert to DateTime\n",
        "  - 3.3 Bin the data\n",
        "  - 3.4 Sort the Bins\n",
        "  - 3.5 Create the Final Dataset\n",
        "4. Plot the Data\n",
        "5. Discussion\n",
        "  - 5.1 Limitations\n",
        "  - 5.2 Conclusions\n",
        "\n"
      ]
    },
    {
      "cell_type": "markdown",
      "metadata": {
        "id": "8MyZ4hyTJNZ4"
      },
      "source": [
        "# 1.0 Access Data Source"
      ]
    },
    {
      "cell_type": "code",
      "metadata": {
        "colab": {
          "base_uri": "https://localhost:8080/"
        },
        "id": "LgEMcN5L_1tg",
        "outputId": "ab751a33-6e65-457b-83b0-1b4f710d05d5"
      },
      "source": [
        "# Mount Google.\n",
        "from google.colab import drive\n",
        "drive.mount(\"/content/gdrive\", force_remount=True)\n",
        "#drive.flush_and_unmount()\n",
        "\n",
        "# Load reader modules\n",
        "from csv import reader\n",
        "\n",
        "# Find out where the data is.\n",
        "#!ls \"gdrive/MyDrive/Colab Notebooks/p2/\"\n",
        "\n",
        "### Open Hacker News Dataset ###\n",
        "opened_file = open('gdrive/MyDrive/Colab Notebooks/p2/HN_posts_year_to_Sep_26_2016.csv')\n",
        "read_file = reader(opened_file)\n",
        "hn_dataset = list(read_file)\n",
        "header = hn_dataset[0]\n",
        "hn = hn_dataset[1:]"
      ],
      "execution_count": 13,
      "outputs": [
        {
          "output_type": "stream",
          "text": [
            "Mounted at /content/gdrive\n"
          ],
          "name": "stdout"
        }
      ]
    },
    {
      "cell_type": "markdown",
      "metadata": {
        "id": "rM1d-3lfBDM_"
      },
      "source": [
        "# 1.1 Inside the Data\n",
        "The data has a header row, so we'll make two lists:\n",
        "- hn - the whole dataset, except the header row\n",
        "- header - the header row"
      ]
    },
    {
      "cell_type": "code",
      "metadata": {
        "colab": {
          "base_uri": "https://localhost:8080/"
        },
        "id": "5VX4KIaFBG57",
        "outputId": "6ee4dc3b-7a5f-4f43-9378-7cfed1a5925d"
      },
      "source": [
        "print(header)\n",
        "\n",
        "for row in hn[0:4]:\n",
        "  print(row)\n",
        "  print(\"\\n\")"
      ],
      "execution_count": 14,
      "outputs": [
        {
          "output_type": "stream",
          "text": [
            "['id', 'title', 'url', 'num_points', 'num_comments', 'author', 'created_at']\n",
            "['12579008', 'You have two days to comment if you want stem cells to be classified as your own', 'http://www.regulations.gov/document?D=FDA-2015-D-3719-0018', '1', '0', 'altstar', '9/26/2016 3:26']\n",
            "\n",
            "\n",
            "['12579005', 'SQLAR  the SQLite Archiver', 'https://www.sqlite.org/sqlar/doc/trunk/README.md', '1', '0', 'blacksqr', '9/26/2016 3:24']\n",
            "\n",
            "\n",
            "['12578997', 'What if we just printed a flatscreen television on the side of our boxes?', 'https://medium.com/vanmoof/our-secrets-out-f21c1f03fdc8#.ietxmez43', '1', '0', 'pavel_lishin', '9/26/2016 3:19']\n",
            "\n",
            "\n",
            "['12578989', 'algorithmic music', 'http://cacm.acm.org/magazines/2011/7/109891-algorithmic-composition/fulltext', '1', '0', 'poindontcare', '9/26/2016 3:16']\n",
            "\n",
            "\n"
          ],
          "name": "stdout"
        }
      ]
    },
    {
      "cell_type": "markdown",
      "metadata": {
        "id": "rgMlshOdELKM"
      },
      "source": [
        "# 2.0 Most Engaging Post Type\n",
        "\n",
        "---\n",
        "\n",
        "\n",
        "\n",
        "Two of the most popular kinds of post at \"Ask HN\" and \"Show HN\" posts. So popular, they are the only type on the super-minimal banner.\n",
        "\n",
        "![image.png](data:image/png;base64,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)\n",
        "\n",
        "Maximum engagement means:\n",
        "- What are people posting most often? From this is might follow that this is what engages the most.\n",
        "- How many comments does each post type get?\n",
        "- How many upvotes does each post type get? "
      ]
    },
    {
      "cell_type": "markdown",
      "metadata": {
        "id": "xvzU8QM-KGSM"
      },
      "source": [
        "# 2.1 Engagement by Most Common Post Type\n",
        "\n",
        "## Q: What types of post are most common?\n",
        "People tend to post what they themselves want to see. So measuring which post type is most commonly published gives an indication of what will potentially engage users. We might be able to filter out a type of post just because it is statistically irrelevant.\n",
        "\n",
        "### Method: \n",
        "I used the lower() function to make sure case doesn't become a filter. Then the .startswith() method to create a filter resulting in three lists of lists:\n",
        "\n",
        "1. ask_posts\n",
        "2. show_posts\n",
        "3. other_posts\n",
        "\n",
        "These lists will form the foundation of much of the following analysis."
      ]
    },
    {
      "cell_type": "code",
      "metadata": {
        "colab": {
          "base_uri": "https://localhost:8080/"
        },
        "id": "dtTp-ao1SfVy",
        "outputId": "08847732-fffe-4a27-89da-3966073657a3"
      },
      "source": [
        "ask_posts = []\n",
        "show_posts = []\n",
        "other_posts = []\n",
        "\n",
        "for row in hn:\n",
        "  title = row[1]\n",
        "  if title.lower().startswith(\"ask hn\"):\n",
        "    ask_posts.append(row)\n",
        "  elif title.lower().startswith(\"show hn\"):\n",
        "    show_posts.append(row)\n",
        "  else:\n",
        "    other_posts.append(row)\n",
        "\n",
        "print(\"Total 'Ask HN' posts:\", len(ask_posts))\n",
        "print(\"Total 'Show HN' posts:\", len(show_posts))\n",
        "print(\"Total 'Other' posts:\", len(other_posts))\n"
      ],
      "execution_count": 15,
      "outputs": [
        {
          "output_type": "stream",
          "text": [
            "Total 'Ask HN' posts: 9139\n",
            "Total 'Show HN' posts: 10158\n",
            "Total 'Other' posts: 273822\n"
          ],
          "name": "stdout"
        }
      ]
    },
    {
      "cell_type": "markdown",
      "metadata": {
        "id": "Ik7Fv-6KUj2s"
      },
      "source": [
        "## A: \"Ask HN\" and \"Show HN\"\n",
        "These post types are, within tolerances, equally frequent on HN.\n"
      ]
    },
    {
      "cell_type": "markdown",
      "metadata": {
        "id": "u4Kg8GLsK0_y"
      },
      "source": [
        "# 2.2 Engagement by Comments and Upvotes\n",
        "\n",
        "## Q: What kind of post gets the greatest number of comments and upvotes?\n",
        "This is a strong measure of engagement, stronger than post type quantity, because it takes effort to interact with the post. After all, we are interested in what the readership thinks is engaging more than what the posters think ought to be engaging.\n",
        "\n",
        "### Method:\n",
        "The data contains two counter columns for number of comments and number of upvotes so I will just loop through the **ask_posts** and **show_posts** lists of lists to create a total which I will present as an average."
      ]
    },
    {
      "cell_type": "code",
      "metadata": {
        "colab": {
          "base_uri": "https://localhost:8080/"
        },
        "id": "zI1qTDm1Voio",
        "outputId": "932df122-d59e-47a9-b878-d22bac97a7fb"
      },
      "source": [
        "# Loop through the Ask HN list of lists\n",
        "# Sum comments (index 4)\n",
        "ask_comments = 0\n",
        "ask_upvotes = 0\n",
        "for row in ask_posts:\n",
        "  ask_comments += int(row[4])\n",
        "  ask_upvotes += int(row[3])\n",
        "\n",
        "# Loop through the Show HN list of lists\n",
        "# Sum comments (index 4)\n",
        "show_comments = 0\n",
        "show_upvotes = 0\n",
        "for row in show_posts:\n",
        "  show_comments += int(row[4])\n",
        "  show_upvotes += int(row[3])\n",
        "\n",
        "# The length of the list is the number of posts.\n",
        "print(\"Average comments on Ask HN posts:\", round(ask_comments/len(ask_posts)))\n",
        "print(\"Average upvotes on Ask HN posts:\", round(ask_upvotes/len(ask_posts)))\n",
        "print(\"Average comments on Show HN posts:\", round(show_comments/len(show_posts)))\n",
        "print(\"Average upvotes on Show HN posts:\", round(show_upvotes/len(show_posts)))"
      ],
      "execution_count": 16,
      "outputs": [
        {
          "output_type": "stream",
          "text": [
            "Average comments on Ask HN posts: 10\n",
            "Average upvotes on Ask HN posts: 11\n",
            "Average comments on Show HN posts: 5\n",
            "Average upvotes on Show HN posts: 15\n"
          ],
          "name": "stdout"
        }
      ]
    },
    {
      "cell_type": "markdown",
      "metadata": {
        "id": "g7E6NNdFa6ZF"
      },
      "source": [
        "### A: Ask HN posts are most engaging\n",
        "Comments are a better measure of engagement because it takes time to do. Therefore, to override a high comment count, another type would need a very high number of upvotes.\n",
        "\n",
        "Ask HN posts get double the comments Show HN posts get. Show HN posts get more upvotes, but not by a very significant margin.\n",
        "\n",
        "Therefore, Ask HN posts get better engagement.\n",
        "\n"
      ]
    },
    {
      "cell_type": "markdown",
      "metadata": {
        "id": "12NHcT4TbB7H"
      },
      "source": [
        "# 3.0 Time Analysis\n",
        "---\n",
        "A day is long and all sites have variation in traffic and activity depending on the time of day. While we know we should post an Ask HN post, we also need to know when to post it.\n",
        "\n"
      ]
    },
    {
      "cell_type": "markdown",
      "metadata": {
        "id": "QOoCOL_nNcNW"
      },
      "source": [
        "# 3.1 Clean the Data\n",
        "\n",
        "## Q: Is the data ready for datetime functions?\n",
        "\n",
        "### Method\n",
        "Look at the data and get the type for the time column.\n"
      ]
    },
    {
      "cell_type": "code",
      "metadata": {
        "colab": {
          "base_uri": "https://localhost:8080/"
        },
        "id": "rHEQ-5L7O5Iy",
        "outputId": "3328757e-9f11-40ba-a513-984736e32376"
      },
      "source": [
        "print(ask_posts[0][-1])\n",
        "type(ask_posts[0][-1])\n"
      ],
      "execution_count": 17,
      "outputs": [
        {
          "output_type": "stream",
          "text": [
            "9/26/2016 2:53\n"
          ],
          "name": "stdout"
        },
        {
          "output_type": "execute_result",
          "data": {
            "text/plain": [
              "str"
            ]
          },
          "metadata": {
            "tags": []
          },
          "execution_count": 17
        }
      ]
    },
    {
      "cell_type": "markdown",
      "metadata": {
        "id": "lLN7B_WmPPzq"
      },
      "source": [
        "## A: Unclean\n",
        "Although the column is consistent with no empty strings, the time and date is a string type and is not in the right format."
      ]
    },
    {
      "cell_type": "markdown",
      "metadata": {
        "id": "szhcV_LKPoCp"
      },
      "source": [
        "# 3.2 Convert to DateTime\n",
        "\n",
        "### Method\n",
        "I will use datetime.strptime() to reformat the data point and write it back to the original data.\n",
        "\n",
        "NB: It would be good practice to append a column, but for simplicity."
      ]
    },
    {
      "cell_type": "code",
      "metadata": {
        "id": "lDKgvjbsiJex",
        "colab": {
          "base_uri": "https://localhost:8080/"
        },
        "outputId": "c9b85b22-f34e-42b9-fa90-f0be80da6517"
      },
      "source": [
        "# Import the datetime module as an alias.\n",
        "# dt is the alias for the module\n",
        "# dt.datetime() is the class itself\n",
        "import datetime as dt\n",
        "\n",
        "# Convert the 'created at' column in the dataset to a datetime type.\n",
        "# Using only the ask_posts list.\n",
        "for row in ask_posts:\n",
        "  created_str = row[-1]\n",
        "  created_dt = dt.datetime.strptime(created_str, \"%m/%d/%Y %H:%M\")\n",
        "  row[-1] = created_dt\n",
        "\n",
        "print(ask_posts[0][-1])\n",
        "type(ask_posts[0][-1])\n"
      ],
      "execution_count": 18,
      "outputs": [
        {
          "output_type": "stream",
          "text": [
            "2016-09-26 02:53:00\n"
          ],
          "name": "stdout"
        },
        {
          "output_type": "execute_result",
          "data": {
            "text/plain": [
              "datetime.datetime"
            ]
          },
          "metadata": {
            "tags": []
          },
          "execution_count": 18
        }
      ]
    },
    {
      "cell_type": "markdown",
      "metadata": {
        "id": "SYkWTrqKlukE"
      },
      "source": [
        "We can now see that the created at column is the datetime type"
      ]
    },
    {
      "cell_type": "markdown",
      "metadata": {
        "id": "uMThlL_cknJe"
      },
      "source": [
        "# 3.3 Bin the Data\n",
        "There are three things we need to track for Ask HN posts:\n",
        "1. Total posts per hour.\n",
        "2. Total comments per hour.\n",
        "3. Total upvotes per hour.\n",
        "\n",
        "### Method\n",
        "**Classes** can help make this code more robust and future-proof in the instance HN starts using a different datetime format or we want to change the delta of the bin.\n",
        "\n",
        "I will therefore:\n",
        "1. Create a class which:\n",
        "  - pulls out the required delta from the dataset.\n",
        "  - creates a frequency dictionary for that bin delta.\n",
        "\n",
        "NB: Classes are not essential and for this project are perhaps more complex that is required, but the opportunity is there to develop my skills in this important area of Python."
      ]
    },
    {
      "cell_type": "code",
      "metadata": {
        "id": "NsXUcHa5mJY_"
      },
      "source": [
        "freq_pph = {}\n",
        "freq_cph = {}\n",
        "freq_uph = {}\n",
        "\n",
        "# Creates a binned frequency table:\n",
        "# - key is bin_minutes (size of bin in minutes).\n",
        "# - value is freq_value which sums/counts the number of things in that column. \n",
        "class BinFreq:\n",
        "  def __init__(self, dataset, bin_minutes, freq_value, dict_name):\n",
        "    self.dataset = dataset\n",
        "    self.bin_minutes = bin_minutes\n",
        "    self.freq_value = freq_value\n",
        "    self.dict_name = dict_name\n",
        "    #self.freq_posts_per_hour = freq_posts_per_hour\n",
        "\n",
        "  def make_table(self):\n",
        "    # Sets bin size\n",
        "    # Counts how of posts in that timedelta\n",
        "    if (self.bin_minutes == 60) and (self.freq_value == \"None\"):\n",
        "      for post in self.dataset:\n",
        "        hour_dt = post[-1]\n",
        "        hour_str = hour_dt.strftime(\"%H\")\n",
        "        if hour_str in self.dict_name:\n",
        "           self.dict_name[hour_str] += 1\n",
        "        else:\n",
        "           self.dict_name[hour_str] = 1\n",
        "    # Sets bins size\n",
        "    # Sums the values of a given index/column\n",
        "    if (self.bin_minutes == 60) and (self.freq_value != \"None\"):\n",
        "      for post in self.dataset:\n",
        "        hour_dt = post[-1]\n",
        "        hour_str = hour_dt.strftime(\"%H\")\n",
        "        if hour_str in self.dict_name:\n",
        "          self.dict_name[hour_str] += int(post[self.freq_value])\n",
        "        else:\n",
        "          self.dict_name[hour_str] = int(post[self.freq_value])\n",
        "    return self.dict_name\n"
      ],
      "execution_count": 19,
      "outputs": []
    },
    {
      "cell_type": "markdown",
      "metadata": {
        "id": "gGmpMT2TkDbJ"
      },
      "source": [
        "# 3.4 Sort the Bins\n",
        "The bin dictionary is not sorted so it won't be useful for time analysis.\n",
        "\n",
        "### Method \n",
        "The class below sorts the dictionary into ascending time order so we can plot it properly.\n",
        "\n",
        "sorted() is the builtin function of choice. The resulting tuple is then converted to a dictionary using dict()."
      ]
    },
    {
      "cell_type": "code",
      "metadata": {
        "id": "2q97uP4uSCy4"
      },
      "source": [
        "sorted_dict = {}\n",
        "\n",
        "class SortDict:\n",
        "  def __init__(self, sort_this_dict, desc):\n",
        "    self.sort_this_dict = sort_this_dict\n",
        "    self.desc = desc\n",
        "\n",
        "  # Sorts dictionary in ascending or descending order.\n",
        "  def sort_dict(self):\n",
        "    dict_items = self.sort_this_dict.items()\n",
        "    sorted_tuple = sorted(dict_items)\n",
        "    sorted_dict = dict(sorted_tuple)\n",
        "    return sorted_dict \n"
      ],
      "execution_count": 20,
      "outputs": []
    },
    {
      "cell_type": "markdown",
      "metadata": {
        "id": "c8U7ViXCkJq4"
      },
      "source": [
        "# 3.5 Create the Final Dataset\n",
        "The only thing left to do now is instantiate the class and run the method."
      ]
    },
    {
      "cell_type": "code",
      "metadata": {
        "colab": {
          "base_uri": "https://localhost:8080/"
        },
        "id": "mnJ8T7ASGiwr",
        "outputId": "51db770e-93fe-4189-d81b-e878a46b4734"
      },
      "source": [
        "## PPH - Posts Per Hour\n",
        "# Instantiate the class for post frequency.\n",
        "pph = BinFreq(ask_posts, 60, \"None\", freq_pph)\n",
        "pph_dict = pph.make_table()\n",
        "\n",
        "# Sort the dictionary that is returned.\n",
        "spph = SortDict(pph_dict, desc=True)\n",
        "spph_dict = spph.sort_dict()\n",
        "print(spph_dict)\n",
        "\n",
        "## CPH - Comments Per Hour\n",
        "# Instantiate the class for comment frequency.\n",
        "cph = BinFreq(ask_posts, 60, 4, freq_cph)\n",
        "cph_dict = cph.make_table()\n",
        "\n",
        "# Sort the dictionary that is returned.\n",
        "scph = SortDict(cph_dict, desc=True)\n",
        "scph_dict = scph.sort_dict()\n",
        "print(scph_dict)\n",
        "\n",
        "## UPH - Upvotes Per Hour\n",
        "# Instantiate the class for upvote frequency.\n",
        "uph = BinFreq(ask_posts, 60, 3, freq_uph)\n",
        "uph_dict = uph.make_table()\n",
        "\n",
        "# Sort the dictionary that is returned.\n",
        "suph = SortDict(uph_dict, desc=True)\n",
        "suph_dict = suph.sort_dict()\n",
        "print(suph_dict)"
      ],
      "execution_count": 21,
      "outputs": [
        {
          "output_type": "stream",
          "text": [
            "{'00': 301, '01': 282, '02': 269, '03': 271, '04': 243, '05': 209, '06': 234, '07': 226, '08': 257, '09': 222, '10': 282, '11': 312, '12': 342, '13': 444, '14': 513, '15': 646, '16': 579, '17': 587, '18': 614, '19': 552, '20': 510, '21': 518, '22': 383, '23': 343}\n",
            "{'00': 2277, '01': 2089, '02': 2996, '03': 2154, '04': 2360, '05': 1838, '06': 1587, '07': 1585, '08': 2362, '09': 1477, '10': 3013, '11': 2797, '12': 4234, '13': 7245, '14': 4972, '15': 18525, '16': 4466, '17': 5547, '18': 4877, '19': 3954, '20': 4462, '21': 4500, '22': 3372, '23': 2297}\n",
            "{'00': 2835, '01': 2662, '02': 2944, '03': 2539, '04': 2650, '05': 2046, '06': 2030, '07': 2040, '08': 2744, '09': 1763, '10': 3789, '11': 2856, '12': 4643, '13': 7962, '14': 5390, '15': 13978, '16': 5970, '17': 7155, '18': 6850, '19': 4782, '20': 4491, '21': 5042, '22': 3601, '23': 2616}\n"
          ],
          "name": "stdout"
        }
      ]
    },
    {
      "cell_type": "markdown",
      "metadata": {
        "id": "6tjBTHu-GjaC"
      },
      "source": [
        "# 4.0 Plot the Data\n",
        "After all the data has been put in bins and processed, we have three data sets for Ask HN posts:\n",
        "1. spph_dict = posts per hour as a sorted dictionary.\n",
        "2. cpph_dict = comments per hour as a sorted dictionary.\n",
        "3. upph_dict = upvotes per hour as a sorted dictionary.\n",
        "\n",
        "##  Q: Can we visualise an optimal time to post?\n",
        "\n",
        "### Method\n",
        "matplotlib.pyplot() is the library I will use to create a simple bar chart.\n",
        "\n",
        "A bar chart is the best choice when using time bins because we want to see the relative frequence compared across three charts.\n",
        "\n",
        "NB. A grouped bar chart would be better, but I haven't learned how to do that yet.\n"
      ]
    },
    {
      "cell_type": "code",
      "metadata": {
        "colab": {
          "base_uri": "https://localhost:8080/",
          "height": 298
        },
        "id": "fj0qB-BRh66I",
        "outputId": "38586cd6-f2c4-4c0c-95fc-75d79321c0e9"
      },
      "source": [
        "import matplotlib\n",
        "\n",
        "spph_dict_values = spph_dict.values()\n",
        "spph_dict_keys = spph_dict.keys()\n",
        "matplotlib.pyplot.title(\"Posts per hour over average 24 hour period\")\n",
        "matplotlib.pyplot.bar(spph_dict_keys, spph_dict_values)"
      ],
      "execution_count": 22,
      "outputs": [
        {
          "output_type": "execute_result",
          "data": {
            "text/plain": [
              "<BarContainer object of 24 artists>"
            ]
          },
          "metadata": {
            "tags": []
          },
          "execution_count": 22
        },
        {
          "output_type": "display_data",
          "data": {
            "image/png": "[encoded data removed]",
            "text/plain": [
              "<Figure size 432x288 with 1 Axes>"
            ]
          },
          "metadata": {
            "tags": [],
            "needs_background": "light"
          }
        }
      ]
    },
    {
      "cell_type": "code",
      "metadata": {
        "colab": {
          "base_uri": "https://localhost:8080/",
          "height": 298
        },
        "id": "j3olOo_Tjbz7",
        "outputId": "b06c3aca-6668-4d30-890d-ef5ddc9a4bd7"
      },
      "source": [
        "scph_dict_values = scph_dict.values()\n",
        "scph_dict_keys = scph_dict.keys()\n",
        "matplotlib.pyplot.title(\"Comments per hour over average 24 hour period\")\n",
        "matplotlib.pyplot.bar(scph_dict_keys, scph_dict_values)"
      ],
      "execution_count": 23,
      "outputs": [
        {
          "output_type": "execute_result",
          "data": {
            "text/plain": [
              "<BarContainer object of 24 artists>"
            ]
          },
          "metadata": {
            "tags": []
          },
          "execution_count": 23
        },
        {
          "output_type": "display_data",
          "data": {
            "image/png": "[encoded data removed]",
            "text/plain": [
              "<Figure size 432x288 with 1 Axes>"
            ]
          },
          "metadata": {
            "tags": [],
            "needs_background": "light"
          }
        }
      ]
    },
    {
      "cell_type": "code",
      "metadata": {
        "colab": {
          "base_uri": "https://localhost:8080/",
          "height": 298
        },
        "id": "K8nUtAXijbcz",
        "outputId": "a8146744-16b8-4c10-9062-9d3d2b26ccf7"
      },
      "source": [
        "suph_dict_values = suph_dict.values()\n",
        "suph_dict_keys = suph_dict.keys()\n",
        "matplotlib.pyplot.title(\"Upvotes per hour over average 24 hour period\")\n",
        "matplotlib.pyplot.bar(suph_dict_keys, suph_dict_values)"
      ],
      "execution_count": 24,
      "outputs": [
        {
          "output_type": "execute_result",
          "data": {
            "text/plain": [
              "<BarContainer object of 24 artists>"
            ]
          },
          "metadata": {
            "tags": []
          },
          "execution_count": 24
        },
        {
          "output_type": "display_data",
          "data": {
            "image/png": "[encoded data removed]",
            "text/plain": [
              "<Figure size 432x288 with 1 Axes>"
            ]
          },
          "metadata": {
            "tags": [],
            "needs_background": "light"
          }
        }
      ]
    },
    {
      "cell_type": "markdown",
      "metadata": {
        "id": "ifjg0gI4kzcJ"
      },
      "source": [
        "### A: 15:00 may be the optimal time to post\n",
        "There is clearly a very high surge in site engagement at 15:00.\n"
      ]
    },
    {
      "cell_type": "markdown",
      "metadata": {
        "id": "tnyMTEl2TWRL"
      },
      "source": [
        "# 5.0 Discussion\n",
        "\n",
        "## 5.1 Limitations\n",
        "### Overfitting\n",
        "The dataset was filtered down quite quickly for the purposes of a learning and portfolio piece. There are good reasons to re-run the analysis on \"Show HN\" posts, as well as looking in the large \"Other\" group.\n",
        "### Diminishing Returns\n",
        "It is possible that with such high interaction with \"Ask HN\" content means that there is no appetite for more. The past is not a good indicaion of future behaviour.\n",
        "### Content Blindness\n",
        "There is no sense of the data in the analysis. There could be causal mechanisms driving this surge at 15:00 that are important to post optimisation.\n",
        "### Outliers \n",
        "The 15:00 surge is so big and so rapid that it may be an outlier - the data may be flawed. An analysis of another data set at a different time should be done to investigate this.\n",
        "\n",
        "## 5.2 Conclusions\n",
        "It is clear that posting at 15:00 is very likely to get strong engagement.\n",
        "\n",
        "It is less clear that any kind of post would succeed just because it is posted at this time.\n",
        "\n",
        "It is less clear that the effect of posting at 15:00 would be strong as the data suggests."
      ]
    }
  ]
}