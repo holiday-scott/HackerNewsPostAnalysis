{
  "nbformat": 4,
  "nbformat_minor": 0,
  "metadata": {
    "colab": {
      "name": "Exploring Hacker News Posts.ipynb",
      "provenance": [],
      "authorship_tag": "ABX9TyNPhPusMyUTkb8991Pxf7Me",
      "include_colab_link": true
    },
    "kernelspec": {
      "name": "python3",
      "display_name": "Python 3"
    },
    "language_info": {
      "name": "python"
    }
  },
  "cells": [
    {
      "cell_type": "markdown",
      "metadata": {
        "id": "view-in-github",
        "colab_type": "text"
      },
      "source": [
        "<a href=\"https://colab.research.google.com/github/holiday-scott/HackerNewsPostAnalysis/blob/main/Exploring_Hacker_News_Posts.ipynb\" target=\"_parent\"><img src=\"https://colab.research.google.com/assets/colab-badge.svg\" alt=\"Open In Colab\"/></a>"
      ]
    },
    {
      "cell_type": "markdown",
      "metadata": {
        "id": "QhXl6RdT91X_"
      },
      "source": [
        "# Exploring Hacker News Posts\n",
        "\n",
        "[This data set](https://www.kaggle.com/hacker-news/hacker-news-posts) is Hacker News posts from the last 12 months (up to September 26 2016). \n",
        "\n",
        "The original data has been reduced to remove any posts which did not receive comments.\n",
        "\n",
        "- **id**: The unique identifier from Hacker News for the post\n",
        "- **title**: The title of the post\n",
        "- **url**: The URL that the posts links to, if the post has a URL\n",
        "- **num_points**: The number of points the post acquired, calculated as the total number of upvotes minus the total number of downvotes\n",
        "- **num_comments**: The number of comments that were made on the post\n",
        "- **author**: The username of the person who submitted the post\n",
        "- **created_at**: The date and time at which the post was submitted\n",
        "\n",
        "## Problem - Max Engagement?\n",
        "What kind of post should be published and when should it be published to get maximum engagement?\n",
        "\n",
        "## The Solution\n",
        "1. Filter the post data to see which kinds of post occur most often.\n",
        "2. Look at the number of comments and 'up votes' for each category to see which kind of post gets the most engagement.\n",
        "  - From here, focus on this popular post type.\n",
        "3. Look at the hour the posts were made and find:\n",
        "  - Which hour do people post most content?\n",
        "  - Which hour gets the most comments?\n",
        "  - Which hour gets the most 'up votes'?\n",
        "4. A recommendation can now be made.\n",
        "\n",
        "# Open and Prepare the Data\n",
        "This data does not need cleaning.\n"
      ]
    },
    {
      "cell_type": "code",
      "metadata": {
        "colab": {
          "base_uri": "https://localhost:8080/"
        },
        "id": "LgEMcN5L_1tg",
        "outputId": "09be1ee1-115d-4e95-ca0a-717ce6518b2a"
      },
      "source": [
        "# Mount Google.\n",
        "from google.colab import drive\n",
        "drive.mount(\"/content/gdrive\", force_remount=True)\n",
        "#drive.flush_and_unmount()\n",
        "\n",
        "# Load reader modules\n",
        "from csv import reader\n",
        "\n",
        "# Find out where the data is.\n",
        "#!ls \"gdrive/MyDrive/Colab Notebooks/p2/\"\n",
        "\n",
        "### Open Hacker News Dataset ###\n",
        "opened_file = open('gdrive/MyDrive/Colab Notebooks/p2/HN_posts_year_to_Sep_26_2016.csv')\n",
        "read_file = reader(opened_file)\n",
        "hn_dataset = list(read_file)\n",
        "header = hn_dataset[0]\n",
        "hn = hn_dataset[1:]"
      ],
      "execution_count": 2,
      "outputs": [
        {
          "output_type": "stream",
          "text": [
            "Mounted at /content/gdrive\n"
          ],
          "name": "stdout"
        }
      ]
    },
    {
      "cell_type": "markdown",
      "metadata": {
        "id": "rM1d-3lfBDM_"
      },
      "source": [
        "## Inside the Data\n",
        "The data has a header row, so we'll make two lists:\n",
        "- hn - the whole dataset, except the header row\n",
        "- header - the header row"
      ]
    },
    {
      "cell_type": "code",
      "metadata": {
        "colab": {
          "base_uri": "https://localhost:8080/"
        },
        "id": "5VX4KIaFBG57",
        "outputId": "f731e4d6-dc10-4646-f670-a64067e3dcbe"
      },
      "source": [
        "print(header)\n",
        "\n",
        "for row in hn[0:4]:\n",
        "  print(row)\n",
        "  print(\"\\n\")"
      ],
      "execution_count": 3,
      "outputs": [
        {
          "output_type": "stream",
          "text": [
            "['id', 'title', 'url', 'num_points', 'num_comments', 'author', 'created_at']\n",
            "['12579008', 'You have two days to comment if you want stem cells to be classified as your own', 'http://www.regulations.gov/document?D=FDA-2015-D-3719-0018', '1', '0', 'altstar', '9/26/2016 3:26']\n",
            "\n",
            "\n",
            "['12579005', 'SQLAR  the SQLite Archiver', 'https://www.sqlite.org/sqlar/doc/trunk/README.md', '1', '0', 'blacksqr', '9/26/2016 3:24']\n",
            "\n",
            "\n",
            "['12578997', 'What if we just printed a flatscreen television on the side of our boxes?', 'https://medium.com/vanmoof/our-secrets-out-f21c1f03fdc8#.ietxmez43', '1', '0', 'pavel_lishin', '9/26/2016 3:19']\n",
            "\n",
            "\n",
            "['12578989', 'algorithmic music', 'http://cacm.acm.org/magazines/2011/7/109891-algorithmic-composition/fulltext', '1', '0', 'poindontcare', '9/26/2016 3:16']\n",
            "\n",
            "\n"
          ],
          "name": "stdout"
        }
      ]
    },
    {
      "cell_type": "markdown",
      "metadata": {
        "id": "rgMlshOdELKM"
      },
      "source": [
        "## 1. Filter the post data to see which kinds of post occur most often\n",
        "\n",
        "Two of the most popular kinds of post at \"Ask HN\" and \"Show HN\" posts. So popular, they are the only type on the super-minimal banner.\n",
        "\n",
        "![image.png](data:image/png;base64,iVBORw0KGgoAAAANSUhEUgAAAewAAAAaCAYAAAB1lm/QAAAKfUlEQVR4Ae1cMY7cRhAk4MCJMifOBDh36HuAYgEXOhFgRfcB/8DJAf6Fo4v9CgEO/AkHBpQ4E+yIRremZmuKTXJ43Nvj6lrAgTvDmZ7u6uqpIfdOw5j/EoFEIBFIBBKBRODwCAzVw7thHPMnMUgOJAeSA8mB5MAhOZCCncQ8JDHz8JgH6ORAciA50HJgKtj1kftMH1IQUxCTA8mB5EByIDmwmwOxYJ8LWNP8c9lKO4llciA5kBxIDrxgDqRgv+Dk52Gqfd2UeCQeyYHkwJE5kIKdgp0n9uRAciA5kBy4Ag6kYF9Bko584kvf8okkOZAcSA5chgP9gl1+B+3Tr9+3JzH8blokfAf4DvvvN8M4DMM4vB7GvyMfs6/N5xHx+OnV+P6HV+PHI/oW+PTx7bfj+7dfHR/XwPejbryXwPR+GMb7260b79fjL999M/65A8uH18N4+2brumcev6HGtuK0dfw6B/djvr7GMJ7f7/02uwX7v99/dmn2ayFn1NcAEQn2bRHQYRgf3hHp5vp3FIL58iyCTbHoQcFIYAeI7RsDYbUTkyZH12Brw2byVLE5jzoPfZcQl6eK89x2t+C2tPYlMH3cBr1fPFKwt+5t+zFf4hruPY4Py7GoTW1j7blrt2C7ARPgv/44PTnY50iUIQLRPRKzFyHYQ3t6tgSlYC+TekLWFOxTzaG2ruSagr3O9WsT7El9rnBxqyit279ewdbYtmKzSbD//e1H12d7ssbTtffNJewMgg2B89faRewmr4/eDeNtuVfHlaeh6Am72uQnJjpIwAYfKD7clDcDN/TUfjNTjGTrvsz7UDDC2vqEbUWLdf1KtjGnxk3xwscozuozYVNtzOVM+rHhPiB+s0W+OQHJH/Od19DNaK2thPZ2p2DDNvAyXxqcKS/AGvhhXZ5rY/x+xzzMt+uWp0HNEfvT+CKYz8Xa2DvDHIvH1gJe0Ruj+zdt/dUYFnBrbGqehINbMFW7ytVaJ6gJwsjwZr7AFmqXc3z63C8eTT7BrYKv1QzfZz98LcGS75ufW2ru5DvtXz01Rj7w+iP1T2rurrwGnuOI5VrmK8em/u7HHPsaf02q+ff2gt/AXfO2VIO8BvhVa4u4OI35c642CbYbwVO1iTE/bQdF5uqu/ZScWtiStKZf5iPISpjIngnIjGBjPhdyLWIARgKEYm2SEBR7AzD59KHYQkEhudX/QugqDnfDiLUwB234XP2lDQZj5uY0/gmmS/ewVvW3xNPb9vmKKx2UDI+lfLtvPZsJCQtyho1gzr5jRr6gAIGH+Y44PQ4aizHRtVewdX3zF+upL1HbOINYkSfkf9Q8Bfh0z0H+YIPazmfCRWOKcPMxZMPirn7PcLMX0yYfikGpS2BmY+/Jd95MJz7O+DXe9YmH5s9w4VxHuax+ljgqj6XtGAPPco9F75w15pjRvgOezfmG8exPwwmJxcYbVjX2EPf9mDc+lDU4/6t+oxY21mC0Bnhga679bBZsPFmbGPvnpUVWnrDryQICWK41+QSkjkWBW3L9Hggr/nhizO7rYaxPiVSkNTFMQkoGwPQCNjsz6zRAs2DT9+gWlyXM/IVd9q+e9jAffqJdyIHNxGMv/sAusKu49AiiYMaxRMQ228Df7wsm5h/uQzStAG2s9dt899PiQowLPowbBLuuS9wB1hyXfy64YnNgPHVshIOOQbtLXIKNCvMZs7k+zoGPkVisT8doO1qnGVN8BD51HcqZbkBqM8LN+Us2aowLHOjCNJjfxFMwQo3ouogF9aX343a/eMztHY2PFoNwI/Kn6aPcP3WNGQbAyT43fhT8tY/HO4YcX/k8W6NBTrcckuYwj3ipfmpb8zLJG+UBXNExalPbmDd33SzYbsgfnTv+F7MVwW4KpwRrYlb7qQ8JdTLQa1cL2OboRo2APTFljAu7febNohCm3pOxuu4cAbCeX8lvbHbu581UsBFPuD78JB8NG7Nl8WIunuKbuMgHto14Gn/Dovh82ouIzSSED7yGfyYRN3/Nb5tnV2wqbpvGzfq0Q7DZV7NvbfUVOUJB1vvAH4cuas/62vtKnDctxb/krvpl96VP49L7iJXrYvOcGQ4ZPvDNcttwSvyM+GO+eT1QrcHeHK7dgh34zBgoX9l39qnuQZqbSbtPsJe4NcmLcMN9ljrRvkvVGHIH3NQPu699E46I6DtHiAucr5gP+zGPeKl+altjn+RNuG/jdYza1HYc7+nJ+9CC7YkXgUUfkmqAqEBw0EyGKmwi8Aaa2QAJeT4+Y93HCjb7wWvV/hUxQJz4vtA3lEKQh/Kna8AEPtcrb2Ir69Q5ZWOKiM0k1OLU+da2Me431rYNqbzxWMK82toh2FwQjiFvfEGB1TXLpgJMIxx4LH/uEhfZlHl+JL7axznwuUEsOkbbatPsNGMCm42fsvFGfvTgZmuu1VUXpsVfFtsmHhFb1B4OC8YVyzf62Y7GfWp3ioesjbXMzsRH4UZUY9p3qRozf7mm1A+7r3083nGT+LwP+AQ5bO77uP2YR7xUP7WNQxd4MclbUC86Rm1qexrrSazt3qEFG4WjJ3prYyPFpmN9ANICw3dT1UYRi9qm8dyH4jUbXgTl7zKdhCbsvOGDZHotiWO/zZ4lz/rsh4XKkmZ9NSazV0QNr8nZR7aLuWrT1uOfTf7TXF8XQlv6GxKW4uN4LCccC3znPmDBOWN/m8+PFGysi5xqcQCTen8pzqAYGx8Jsy5xwcbGa278DpvxRB0gFvOtyVPQ7p2jnEdt2RqK6cRmgJv5xX56HlbqqgfTCVcLN4GT3Veeai3hvnJnLte9r2cZM82N5kmFYbWNN0CyhzxFjU1yruKr7YAjnm/wXvaKSaxUV6cc9An2EubKU+Qb+Z/EGdTrJG8zXAf/IpsTG2G8p7380IJtAWJTtcJyUSq/rcwgIMkY49dCCCSCXxeDyDaubhwksmwHCax+rGwsTiqyVe1bIqgfdn28iHldH6S2uaUQ/B75EMYyZ4/mYd21q+PHfkQbP/tW8tQIcVDEkd1ZXzYIdsWu+DGHv43T3+CvOS5zVagY6yY+KbIecUGsbNN8Yrt8GIt8aWqgY7OwtbbOMT/VR7axKtgy3+KrNQmchV/Ahq+9mDa+vv58cK/+rvBUYwEftFbZr17Bhq3KT6rFSV6CeuG9w7mr/8FLMOcpasxiV5zWfGt4bDmXfOv9ZbxNvPoEewlzi4O5YhzRuNQv9XuSt44a1DUa7IgTLcf2CrZsUHPG/avu3rE5rnkinsX0JeK0QbDr5vyMOPWKS+b4tBGtYXFcTPvEYy2+Z7/fWWPm50R0Ll5rXwjmj8DtcU/YvQtFv3TWOzfHpYCDA52byeTEi/kXvh5XXPoF8tkFRHJ2XEy/EPHorDG86eM3QZfnyheCuXC8B8cU7EeA1gNsjrm8OBxFsDP3l899Yv7EmNPXeUd4i/VS852CnYKdT/LJgeRAciA5cAUciAUbf2d9jusVgPBST2sZ9xM/lST3UwSSA8mBM3JgKthnNJ6CkIKQHEgOJAeSA8mB83AgBTsPKHkCTg4kB5IDyYEr4EAV7E+f/hnzJzFIDiQHkgPJgeTAMTnwPxb12e5Tw4OSAAAAAElFTkSuQmCC)\n",
        "\n",
        "Maximum engagement means:\n",
        "- What are people posting most often? From this is might follow that this is what engages the most.\n",
        "- How many comments does each post type get?\n",
        "- How many upvotes does each post type get? \n",
        "\n",
        "### What types of post are most common?\n",
        "I used the lower() function to make sure case doesn't become a filter. Then the .startswith() method to create a filter resulting in three lists of lists:\n",
        "\n",
        "1. ask_posts\n",
        "2. show_posts\n",
        "3. other_posts\n",
        "\n",
        "These lists will form the foundation of much of the following analysis."
      ]
    },
    {
      "cell_type": "code",
      "metadata": {
        "colab": {
          "base_uri": "https://localhost:8080/"
        },
        "id": "dtTp-ao1SfVy",
        "outputId": "13ff95dc-e2cb-42bd-b028-e92b6bb39a89"
      },
      "source": [
        "ask_posts = []\n",
        "show_posts = []\n",
        "other_posts = []\n",
        "\n",
        "for row in hn:\n",
        "  title = row[1]\n",
        "  if title.lower().startswith(\"ask hn\"):\n",
        "    ask_posts.append(row)\n",
        "  elif title.lower().startswith(\"show hn\"):\n",
        "    show_posts.append(row)\n",
        "  else:\n",
        "    other_posts.append(row)\n",
        "\n",
        "print(\"Total 'Ask HN' posts:\", len(ask_posts))\n",
        "print(\"Total 'Show HN' posts:\", len(show_posts))\n",
        "print(\"Total 'Other' posts:\", len(other_posts))\n"
      ],
      "execution_count": 5,
      "outputs": [
        {
          "output_type": "stream",
          "text": [
            "Total 'Ask HN' posts: 9139\n",
            "Total 'Show HN' posts: 10158\n",
            "Total 'Other' posts: 273822\n"
          ],
          "name": "stdout"
        }
      ]
    },
    {
      "cell_type": "markdown",
      "metadata": {
        "id": "Ik7Fv-6KUj2s"
      },
      "source": [
        "#### The Result\n",
        "\"Ask HN\" and \"Show HN\" posts are fairly evenly split with about 10k each. \n",
        "\n",
        "Engagement will come down to comments and upvotes.\n",
        "\n",
        "## 3. Average Comments & Upvotes\n",
        "A better measure of popularity might be looking at which kind of post has the great number of comments and upvotes.\n",
        "\n",
        "An average is good enough for this purpose.\n",
        "\n"
      ]
    },
    {
      "cell_type": "code",
      "metadata": {
        "colab": {
          "base_uri": "https://localhost:8080/"
        },
        "id": "zI1qTDm1Voio",
        "outputId": "df5ba1bf-a556-4790-cca4-8611fa5a6f81"
      },
      "source": [
        "# Loop through the Ask HN list of lists\n",
        "# Sum comments (index 4)\n",
        "ask_comments = 0\n",
        "ask_upvotes = 0\n",
        "for row in ask_posts:\n",
        "  ask_comments += int(row[4])\n",
        "  ask_upvotes += int(row[3])\n",
        "\n",
        "# Loop through the Show HN list of lists\n",
        "# Sum comments (index 4)\n",
        "show_comments = 0\n",
        "show_upvotes = 0\n",
        "for row in show_posts:\n",
        "  show_comments += int(row[4])\n",
        "  show_upvotes += int(row[3])\n",
        "\n",
        "# The length of the list is the number of posts.\n",
        "print(\"Average comments on Ask HN posts:\", round(ask_comments/len(ask_posts)))\n",
        "print(\"Average upvotes on Ask HN posts:\", round(ask_upvotes/len(ask_posts)))\n",
        "print(\"Average comments on Show HN posts:\", round(show_comments/len(show_posts)))\n",
        "print(\"Average upvotes on Show HN posts:\", round(show_upvotes/len(show_posts)))"
      ],
      "execution_count": 10,
      "outputs": [
        {
          "output_type": "stream",
          "text": [
            "Average comments on Ask HN posts: 10\n",
            "Average upvotes on Ask HN posts: 11\n",
            "Average comments on Show HN posts: 5\n",
            "Average upvotes on Show HN posts: 15\n"
          ],
          "name": "stdout"
        }
      ]
    },
    {
      "cell_type": "markdown",
      "metadata": {
        "id": "g7E6NNdFa6ZF"
      },
      "source": [
        "### Analysis\n",
        "Comments are a better measure of engagement because it takes time to do. Therefore, to override a high comment count, another type would need a very high number of upvotes.\n",
        "\n",
        "Ask HN posts get double the comments Show HN posts get. Show HN posts get more upvotes, but not by a very significant margin.\n",
        "\n",
        "Therefore, Ask HN posts get better engagement.\n",
        "\n"
      ]
    },
    {
      "cell_type": "markdown",
      "metadata": {
        "id": "12NHcT4TbB7H"
      },
      "source": [
        "# 3. Time Analysis\n",
        "Is there an optimal time to publish an Ask HN post?\n",
        "\n",
        "I will segment the dataset into hour buckets and look at the quanity of comments and upvotes for each time delta.\n",
        "\n",
        "## Prepare the Times\n",
        "The date column contains \"9/26/2016 3:16\" which needs to be reformated into a datetime object."
      ]
    },
    {
      "cell_type": "code",
      "metadata": {
        "id": "lDKgvjbsiJex"
      },
      "source": [
        "# Import the datetime module as an alias.\n",
        "# dt is the alias for the module\n",
        "# dt.datetime() is the class itself\n",
        "import datetime as dt\n",
        "\n",
        "# Convert the 'created at' column in the dataset to a datetime type.\n",
        "# Using only the ask_posts list.\n",
        "for row in ask_posts:\n",
        "  created_str = row[-1]\n",
        "  created_dt = dt.datetime.strptime(created_str, \"%m/%d/%Y %H:%M\")\n",
        "  row[-1] = created_dt"
      ],
      "execution_count": 14,
      "outputs": []
    },
    {
      "cell_type": "markdown",
      "metadata": {
        "id": "SYkWTrqKlukE"
      },
      "source": [
        "We can now see that the created at column is the datetime type"
      ]
    },
    {
      "cell_type": "code",
      "metadata": {
        "colab": {
          "base_uri": "https://localhost:8080/"
        },
        "id": "EliRwHqsl012",
        "outputId": "f53a8962-3888-4593-b268-6f93a1d6c98c"
      },
      "source": [
        "print(ask_posts[0:1])\n"
      ],
      "execution_count": 15,
      "outputs": [
        {
          "output_type": "stream",
          "text": [
            "[['12578908', 'Ask HN: What TLD do you use for local development?', '', '4', '7', 'Sevrene', datetime.datetime(2016, 9, 26, 2, 53)]]\n"
          ],
          "name": "stdout"
        }
      ]
    },
    {
      "cell_type": "markdown",
      "metadata": {
        "id": "uMThlL_cknJe"
      },
      "source": [
        "## Time Bins\n",
        "There are three things we need to track for Ask HN posts:\n",
        "1. Total posts per hour.\n",
        "2. Total comments per hour.\n",
        "3. Total upvotes per hour.\n",
        "\n",
        "**Classes** can help make this code more robust and future-proof in the instance HN starts using a different datetime format or we want to change the delta of the bin.\n",
        "\n",
        "I will therefore:\n",
        "1. Create a class which:\n",
        "  - pulls out the required delta from the dataset.\n",
        "  - creates a frequency dictionary for that bin delta.\n"
      ]
    },
    {
      "cell_type": "code",
      "metadata": {
        "id": "NsXUcHa5mJY_"
      },
      "source": [
        "freq_pph = {}\n",
        "freq_cph = {}\n",
        "freq_uph = {}\n",
        "\n",
        "# Creates a binned frequency table:\n",
        "# - key is bin_minutes (size of bin in minutes).\n",
        "# - value is freq_value which sums/counts the number of things in that column. \n",
        "class BinFreq:\n",
        "  def __init__(self, dataset, bin_minutes, freq_value, dict_name):\n",
        "    self.dataset = dataset\n",
        "    self.bin_minutes = bin_minutes\n",
        "    self.freq_value = freq_value\n",
        "    self.dict_name = dict_name\n",
        "    #self.freq_posts_per_hour = freq_posts_per_hour\n",
        "\n",
        "  def make_table(self):\n",
        "    # Sets bin size\n",
        "    # Counts how of posts in that timedelta\n",
        "    if (self.bin_minutes == 60) and (self.freq_value == \"None\"):\n",
        "      for post in self.dataset:\n",
        "        hour_dt = post[-1]\n",
        "        hour_str = hour_dt.strftime(\"%H\")\n",
        "        if hour_str in self.dict_name:\n",
        "           self.dict_name[hour_str] += 1\n",
        "        else:\n",
        "           self.dict_name[hour_str] = 1\n",
        "    # Sets bins size\n",
        "    # Sums the values of a given index/column\n",
        "    if (self.bin_minutes == 60) and (self.freq_value != \"None\"):\n",
        "      for post in self.dataset:\n",
        "        hour_dt = post[-1]\n",
        "        hour_str = hour_dt.strftime(\"%H\")\n",
        "        if hour_str in self.dict_name:\n",
        "          self.dict_name[hour_str] += int(post[self.freq_value])\n",
        "        else:\n",
        "          self.dict_name[hour_str] = int(post[self.freq_value])\n",
        "    return self.dict_name\n"
      ],
      "execution_count": 158,
      "outputs": []
    },
    {
      "cell_type": "markdown",
      "metadata": {
        "id": "gGmpMT2TkDbJ"
      },
      "source": [
        "The class below sorts the dictionary into ascending time order so we can plot it properly."
      ]
    },
    {
      "cell_type": "code",
      "metadata": {
        "id": "2q97uP4uSCy4"
      },
      "source": [
        "sorted_dict = {}\n",
        "\n",
        "class SortDict:\n",
        "  def __init__(self, sort_this_dict, desc):\n",
        "    self.sort_this_dict = sort_this_dict\n",
        "    self.desc = desc\n",
        "\n",
        "  # Sorts dictionary in ascending or descending order.\n",
        "  def sort_dict(self):\n",
        "    dict_items = self.sort_this_dict.items()\n",
        "    sorted_tuple = sorted(dict_items)\n",
        "    sorted_dict = dict(sorted_tuple)\n",
        "    return sorted_dict \n"
      ],
      "execution_count": 168,
      "outputs": []
    },
    {
      "cell_type": "markdown",
      "metadata": {
        "id": "c8U7ViXCkJq4"
      },
      "source": [
        "Below I instantiate all the classess and get them ready for plotting."
      ]
    },
    {
      "cell_type": "code",
      "metadata": {
        "colab": {
          "base_uri": "https://localhost:8080/"
        },
        "id": "mnJ8T7ASGiwr",
        "outputId": "4098b204-15f4-47f1-e32f-bfd4bb0b15df"
      },
      "source": [
        "## PPH - Posts Per Hour\n",
        "# Instantiate the class for post frequency.\n",
        "pph = BinFreq(ask_posts, 60, \"None\", freq_pph)\n",
        "pph_dict = pph.make_table()\n",
        "\n",
        "# Sort the dictionary that is returned.\n",
        "spph = SortDict(pph_dict, desc=True)\n",
        "spph_dict = spph.sort_dict()\n",
        "print(spph_dict)\n",
        "\n",
        "## CPH - Comments Per Hour\n",
        "# Instantiate the class for comment frequency.\n",
        "cph = BinFreq(ask_posts, 60, 4, freq_cph)\n",
        "cph_dict = cph.make_table()\n",
        "\n",
        "# Sort the dictionary that is returned.\n",
        "scph = SortDict(cph_dict, desc=True)\n",
        "scph_dict = scph.sort_dict()\n",
        "print(scph_dict)\n",
        "\n",
        "## UPH - Upvotes Per Hour\n",
        "# Instantiate the class for upvote frequency.\n",
        "uph = BinFreq(ask_posts, 60, 3, freq_uph)\n",
        "uph_dict = uph.make_table()\n",
        "\n",
        "# Sort the dictionary that is returned.\n",
        "suph = SortDict(uph_dict, desc=True)\n",
        "suph_dict = suph.sort_dict()\n",
        "print(suph_dict)"
      ],
      "execution_count": 169,
      "outputs": [
        {
          "output_type": "stream",
          "text": [
            "{'00': 1806, '01': 1692, '02': 1614, '03': 1626, '04': 1458, '05': 1254, '06': 1404, '07': 1356, '08': 1542, '09': 1332, '10': 1692, '11': 1872, '12': 2052, '13': 2664, '14': 3078, '15': 3876, '16': 3474, '17': 3522, '18': 3684, '19': 3312, '20': 3060, '21': 3108, '22': 2298, '23': 2058}\n",
            "{'00': 9108, '01': 8356, '02': 11984, '03': 8616, '04': 9440, '05': 7352, '06': 6348, '07': 6340, '08': 9448, '09': 5908, '10': 12052, '11': 11188, '12': 16936, '13': 28980, '14': 19888, '15': 74100, '16': 17864, '17': 22188, '18': 19508, '19': 15816, '20': 17848, '21': 18000, '22': 13488, '23': 9188}\n",
            "{'00': 11340, '01': 10648, '02': 11776, '03': 10156, '04': 10600, '05': 8184, '06': 8120, '07': 8160, '08': 10976, '09': 7052, '10': 15156, '11': 11424, '12': 18572, '13': 31848, '14': 21560, '15': 55912, '16': 23880, '17': 28620, '18': 27400, '19': 19128, '20': 17964, '21': 20168, '22': 14404, '23': 10464}\n"
          ],
          "name": "stdout"
        }
      ]
    },
    {
      "cell_type": "markdown",
      "metadata": {
        "id": "6tjBTHu-GjaC"
      },
      "source": [
        "## Plotting the Data\n",
        "A bar chart is the best choice when using timedelta binned data.\n"
      ]
    },
    {
      "cell_type": "code",
      "metadata": {
        "colab": {
          "base_uri": "https://localhost:8080/",
          "height": 298
        },
        "id": "fj0qB-BRh66I",
        "outputId": "2be3630b-b12d-488b-f278-8365c6e426a6"
      },
      "source": [
        "import matplotlib\n",
        "\n",
        "spph_dict_values = spph_dict.values()\n",
        "spph_dict_keys = spph_dict.keys()\n",
        "matplotlib.pyplot.title(\"Posts per hour over average 24 hour period\")\n",
        "matplotlib.pyplot.bar(spph_dict_keys, spph_dict_values)"
      ],
      "execution_count": 185,
      "outputs": [
        {
          "output_type": "execute_result",
          "data": {
            "text/plain": [
              "<BarContainer object of 24 artists>"
            ]
          },
          "metadata": {
            "tags": []
          },
          "execution_count": 185
        },
        {
          "output_type": "display_data",
          "data": {
            "image/png": "[encoded data removed]",
            "text/plain": [
              "<Figure size 432x288 with 1 Axes>"
            ]
          },
          "metadata": {
            "tags": [],
            "needs_background": "light"
          }
        }
      ]
    },
    {
      "cell_type": "code",
      "metadata": {
        "colab": {
          "base_uri": "https://localhost:8080/",
          "height": 298
        },
        "id": "j3olOo_Tjbz7",
        "outputId": "e9ce7610-d4c8-40e9-dec1-8fe3993bd017"
      },
      "source": [
        "scph_dict_values = scph_dict.values()\n",
        "scph_dict_keys = scph_dict.keys()\n",
        "matplotlib.pyplot.title(\"Comments per hour over average 24 hour period\")\n",
        "matplotlib.pyplot.bar(scph_dict_keys, scph_dict_values)"
      ],
      "execution_count": 186,
      "outputs": [
        {
          "output_type": "execute_result",
          "data": {
            "text/plain": [
              "<BarContainer object of 24 artists>"
            ]
          },
          "metadata": {
            "tags": []
          },
          "execution_count": 186
        },
        {
          "output_type": "display_data",
          "data": {
            "image/png": "[encoded data removed]",
            "text/plain": [
              "<Figure size 432x288 with 1 Axes>"
            ]
          },
          "metadata": {
            "tags": [],
            "needs_background": "light"
          }
        }
      ]
    },
    {
      "cell_type": "code",
      "metadata": {
        "colab": {
          "base_uri": "https://localhost:8080/",
          "height": 298
        },
        "id": "K8nUtAXijbcz",
        "outputId": "543cd4f4-aee3-4dfb-c888-7954a4905985"
      },
      "source": [
        "suph_dict_values = suph_dict.values()\n",
        "suph_dict_keys = suph_dict.keys()\n",
        "matplotlib.pyplot.title(\"Upvotes per hour over average 24 hour period\")\n",
        "matplotlib.pyplot.bar(suph_dict_keys, suph_dict_values)"
      ],
      "execution_count": 187,
      "outputs": [
        {
          "output_type": "execute_result",
          "data": {
            "text/plain": [
              "<BarContainer object of 24 artists>"
            ]
          },
          "metadata": {
            "tags": []
          },
          "execution_count": 187
        },
        {
          "output_type": "display_data",
          "data": {
            "image/png": "[encoded data removed]",
            "text/plain": [
              "<Figure size 432x288 with 1 Axes>"
            ]
          },
          "metadata": {
            "tags": [],
            "needs_background": "light"
          }
        }
      ]
    },
    {
      "cell_type": "markdown",
      "metadata": {
        "id": "ifjg0gI4kzcJ"
      },
      "source": [
        "# Solution\n",
        "It is very clear that for maximum engagement, you should post an Ask HN post at 15:00."
      ]
    }
  ]
}